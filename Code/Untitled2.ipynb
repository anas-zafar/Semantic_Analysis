{
 "cells": [
  {
   "cell_type": "code",
   "execution_count": 1,
   "metadata": {},
   "outputs": [],
   "source": [
    "def myfunction(matrix):\n",
    "    global answer\n",
    "\n",
    "    def solution(i, j, x1 = 0):\n",
    "        if matrix[i][j] == 1:\n",
    "            x1 += 1\n",
    "            matrix[i][j] = 0\n",
    "            if i+1 < len(matrix):\n",
    "                x1 = solution(i + 1, j, x1)\n",
    "            if j+1 < len(matrix[i]):\n",
    "                x1 = solution(i, j + 1, x1)\n",
    "            if i-1 >= 0:\n",
    "                x1 = solution(i - 1, j, x1)\n",
    "            if j-1 >= 0:\n",
    "                x1 = solution(i, j - 1, x1)\n",
    "        return x1\n",
    "\n",
    "    for i in range(0,len(matrix)):\n",
    "        for j in range(0,len(matrix[i])):\n",
    "            if matrix[i][j] == 1:\n",
    "                answer.append(solution(i, j))"
   ]
  },
  {
   "cell_type": "code",
   "execution_count": 2,
   "metadata": {},
   "outputs": [
    {
     "name": "stdout",
     "output_type": "stream",
     "text": [
      "[2, 1, 5, 2, 2]\n",
      "Guess the size of River\n",
      "Please enter the value for the entry:2\n",
      "Please enter the value for the entry:1\n",
      "Please enter the value for the entry:5\n",
      "Please enter the value for the entry:2\n",
      "Please enter the value for the entry:2\n",
      "You are the winner\n"
     ]
    }
   ],
   "source": [
    "User_Matrix=[\n",
    "    [1,0,0,1,0],\n",
    "    [1,0,1,0,0],\n",
    "    [0,0,1,0,1],\n",
    "    [1,0,1,0,1],\n",
    "    [1,0,1,1,0],\n",
    "]\n",
    "answer = []\n",
    "val = []\n",
    "myfunction(User_Matrix)\n",
    "print(answer)\n",
    "y = answer.__len__()\n",
    "z = y-1\n",
    "print(\"Guess the size of River\")\n",
    "for x in range(y):\n",
    "    val.append(int(input(\"Please enter the value for the entry:\")))\n",
    "Counter = 0\n",
    "for i in range(0,y):\n",
    "    if (val[i] == answer[i]):\n",
    "        Counter = Counter + 1;\n",
    "if (Counter == y):\n",
    "    print(\"You are the winner\")\n",
    "elif ((Counter/y) == 0.6):\n",
    "    print(\"You got second position\")\n",
    "else:\n",
    "    print(\"Invest more money on Almonds then comeback\")"
   ]
  },
  {
   "cell_type": "code",
   "execution_count": null,
   "metadata": {},
   "outputs": [],
   "source": []
  }
 ],
 "metadata": {
  "kernelspec": {
   "display_name": "Python 3",
   "language": "python",
   "name": "python3"
  },
  "language_info": {
   "codemirror_mode": {
    "name": "ipython",
    "version": 3
   },
   "file_extension": ".py",
   "mimetype": "text/x-python",
   "name": "python",
   "nbconvert_exporter": "python",
   "pygments_lexer": "ipython3",
   "version": "3.8.2"
  }
 },
 "nbformat": 4,
 "nbformat_minor": 4
}
